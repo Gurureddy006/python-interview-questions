{
 "cells": [
  {
   "cell_type": "markdown",
   "id": "513e16a9",
   "metadata": {},
   "source": [
    "# 1. Accessing index in for loops"
   ]
  },
  {
   "cell_type": "code",
   "execution_count": 1,
   "id": "68713d8e",
   "metadata": {},
   "outputs": [
    {
     "name": "stdout",
     "output_type": "stream",
     "text": [
      "0 8\n",
      "1 23\n",
      "2 45\n",
      "(0, 8)\n",
      "(1, 23)\n",
      "(2, 45)\n"
     ]
    }
   ],
   "source": [
    "s = [8, 23, 45]\n",
    "\n",
    "for ids, i in enumerate(s):\n",
    "    print(ids, i)\n",
    "\n",
    "for j in enumerate(s):\n",
    "    print(j)"
   ]
  },
  {
   "cell_type": "markdown",
   "id": "526cb0c1",
   "metadata": {},
   "source": [
    "# 2. How do I make a flat list out of a list of lists?"
   ]
  },
  {
   "cell_type": "code",
   "execution_count": 2,
   "id": "89e6d4fd",
   "metadata": {},
   "outputs": [
    {
     "name": "stdout",
     "output_type": "stream",
     "text": [
      "[[1, 2, 3], [4, 5, 6], [7], [8, 9]]\n",
      "[1, 2, 3, 4, 5, 6, 7, 8, 9]\n",
      "\n",
      "[1, 2, 3, 4, 5, 6, 7, 8, 9]\n"
     ]
    }
   ],
   "source": [
    "l = [\n",
    "    [1, 2, 3],\n",
    "    [4, 5, 6],\n",
    "    [7],\n",
    "    [8, 9]\n",
    "]\n",
    "\n",
    "flat_list = [item for sublist in l for item in sublist]\n",
    "\n",
    "print(l)\n",
    "print(flat_list)\n",
    "\n",
    "print()\n",
    "\n",
    "import itertools\n",
    "res = list(itertools.chain(*l))\n",
    "print(res)"
   ]
  },
  {
   "cell_type": "markdown",
   "id": "63a14737",
   "metadata": {},
   "source": [
    "# 3. Finding the index of an item in a list"
   ]
  },
  {
   "cell_type": "code",
   "execution_count": 3,
   "id": "f564f88b",
   "metadata": {},
   "outputs": [
    {
     "name": "stdout",
     "output_type": "stream",
     "text": [
      "2\n",
      "\n",
      "0\n"
     ]
    },
    {
     "data": {
      "text/plain": [
       "1"
      ]
     },
     "execution_count": 3,
     "metadata": {},
     "output_type": "execute_result"
    }
   ],
   "source": [
    "a = [\"foo\", \"bar\", \"baz\"]\n",
    "print(a.index(\"baz\"))\n",
    "print()\n",
    "b = a.index(\"foo\")\n",
    "print(b)\n",
    "\n",
    "[\"foo\", \"bar\", \"baz\"].index(\"bar\")"
   ]
  },
  {
   "cell_type": "markdown",
   "id": "d384f054",
   "metadata": {},
   "source": [
    "# 4. How do I concatenate two lists in Python?"
   ]
  },
  {
   "cell_type": "code",
   "execution_count": 4,
   "id": "ecbcdbe4",
   "metadata": {},
   "outputs": [
    {
     "name": "stdout",
     "output_type": "stream",
     "text": [
      "[1, 2, 3, 1, 2, 3]\n",
      "[1, 2, 3, 4, 5, 6]\n",
      "[4, 5, 6, 1, 2, 3]\n"
     ]
    }
   ],
   "source": [
    "list1 = [1, 2, 3]\n",
    "list2 = [4, 5, 6]\n",
    "\n",
    "print(list1+list1)\n",
    "\n",
    "print(list1+list2)\n",
    "\n",
    "print(list2+list1)"
   ]
  },
  {
   "cell_type": "markdown",
   "id": "ebb6cc94",
   "metadata": {},
   "source": [
    "# 5. How do I check if a list is empty?"
   ]
  },
  {
   "cell_type": "code",
   "execution_count": 5,
   "id": "f396e6b7",
   "metadata": {},
   "outputs": [
    {
     "name": "stdout",
     "output_type": "stream",
     "text": [
      "List is empty\n"
     ]
    }
   ],
   "source": [
    "a = []\n",
    "\n",
    "if not a:\n",
    "    print(\"List is empty\")\n",
    "else:\n",
    "    print(a)"
   ]
  },
  {
   "cell_type": "markdown",
   "id": "1ea8b00f",
   "metadata": {},
   "source": [
    "# 6. How do I clone a list so that it doesn't change unexpectedly after assignment?"
   ]
  },
  {
   "cell_type": "code",
   "execution_count": 6,
   "id": "c652def5",
   "metadata": {},
   "outputs": [
    {
     "name": "stdout",
     "output_type": "stream",
     "text": [
      "[10, 20, 30, 40]\n",
      "[10, 20, 30, 40, 50]\n",
      "[10, 20, 30, 40]\n"
     ]
    }
   ],
   "source": [
    "old_list = [10, 20, 30, 40]\n",
    "\n",
    "new_list1 = old_list.copy()\n",
    "new_list1.append(50)\n",
    "\n",
    "new_list2 = old_list[:]\n",
    "\n",
    "print(old_list)\n",
    "\n",
    "print(new_list1)\n",
    "\n",
    "print(new_list2)\n"
   ]
  },
  {
   "cell_type": "markdown",
   "id": "8f5f85f0",
   "metadata": {},
   "source": [
    "# 7. What is the difference between Python's list methods append and extend?"
   ]
  },
  {
   "cell_type": "code",
   "execution_count": 7,
   "id": "bd059193",
   "metadata": {},
   "outputs": [
    {
     "name": "stdout",
     "output_type": "stream",
     "text": [
      "[1, 2, 3, [4, 5, 6]]\n"
     ]
    }
   ],
   "source": [
    "x = [1, 2, 3]\n",
    "x.append([4, 5,6])\n",
    "print(x)"
   ]
  },
  {
   "cell_type": "code",
   "execution_count": 8,
   "id": "8c07ef0f",
   "metadata": {},
   "outputs": [
    {
     "name": "stdout",
     "output_type": "stream",
     "text": [
      "[1, 2, 3, 4, 5, 6]\n"
     ]
    }
   ],
   "source": [
    "x = [1, 2, 3]\n",
    "x.extend([4, 5, 6])\n",
    "print(x)"
   ]
  },
  {
   "cell_type": "markdown",
   "id": "a2ee6aa6",
   "metadata": {},
   "source": [
    "# 8. How do I split a list into equally-sized chunks?"
   ]
  },
  {
   "cell_type": "code",
   "execution_count": 9,
   "id": "b34cb38c",
   "metadata": {},
   "outputs": [
    {
     "name": "stdout",
     "output_type": "stream",
     "text": [
      "range(10, 75)\n",
      "[range(10, 20), range(20, 30), range(30, 40), range(40, 50), range(50, 60), range(60, 70), range(70, 75)]\n"
     ]
    }
   ],
   "source": [
    "a = range(10, 75)\n",
    "\n",
    "b = [a[i:i + 10] for i in range(0, len(a), 10)]\n",
    "\n",
    "print(a)\n",
    "print(b)"
   ]
  },
  {
   "cell_type": "markdown",
   "id": "997199d6",
   "metadata": {},
   "source": [
    "# 9. How to sort a list of dictionaries by a value of the dictionary in Python?"
   ]
  },
  {
   "cell_type": "code",
   "execution_count": 10,
   "id": "3e59650b",
   "metadata": {},
   "outputs": [
    {
     "name": "stdout",
     "output_type": "stream",
     "text": [
      "[{'name': 'Homer', 'age': 39}, {'name': 'Daniel', 'age': 40}, {'name': 'Bart', 'age': 10}, {'name': 'Guru', 'age': 22}]\n",
      "[{'name': 'Bart', 'age': 10}, {'name': 'Daniel', 'age': 40}, {'name': 'Guru', 'age': 22}, {'name': 'Homer', 'age': 39}]\n",
      "\n",
      "[{'name': 'Bart', 'age': 10}, {'name': 'Guru', 'age': 22}, {'name': 'Homer', 'age': 39}, {'name': 'Daniel', 'age': 40}]\n"
     ]
    }
   ],
   "source": [
    "list_to_be_sorted = [{'name': 'Homer', 'age': 39}, {'name': 'Daniel', 'age': 40},{'name': 'Bart', 'age': 10},{'name':\"Guru\",\n",
    "                                                                                                              \"age\":22}]\n",
    "\n",
    "newlist = sorted(list_to_be_sorted, key=lambda d: d['name'])\n",
    "newlist1 = sorted(list_to_be_sorted, key=lambda d: d['age']) \n",
    "\n",
    "print(list_to_be_sorted)\n",
    "print(newlist)\n",
    "print()\n",
    "print(newlist1)\n"
   ]
  },
  {
   "cell_type": "markdown",
   "id": "fe24f8fe",
   "metadata": {},
   "source": [
    "# 10. How do I get the last element of a list?"
   ]
  },
  {
   "cell_type": "code",
   "execution_count": 11,
   "id": "a7030a41",
   "metadata": {},
   "outputs": [
    {
     "name": "stdout",
     "output_type": "stream",
     "text": [
      "[10, 20, 30]\n",
      "30\n",
      "30\n"
     ]
    }
   ],
   "source": [
    "a = [10,20,30]\n",
    "\n",
    "print(a)\n",
    "print(a[-1])\n",
    "print(a[2])"
   ]
  },
  {
   "cell_type": "markdown",
   "id": "5ed1a5c1",
   "metadata": {},
   "source": [
    "# 11. How can I randomly select an item from a list?"
   ]
  },
  {
   "cell_type": "code",
   "execution_count": 12,
   "id": "8be2d992",
   "metadata": {},
   "outputs": [
    {
     "name": "stdout",
     "output_type": "stream",
     "text": [
      "b\n"
     ]
    }
   ],
   "source": [
    "import random\n",
    "\n",
    "foo = ['a', 'b', 'c', 'd', 'e', 1, 2, 3, 4, 5]\n",
    "\n",
    "print(random.choice(foo))"
   ]
  },
  {
   "cell_type": "markdown",
   "id": "f18b9d4d",
   "metadata": {},
   "source": [
    "# 12. How do I get the number of elements in a list or length of a list in Python?"
   ]
  },
  {
   "cell_type": "code",
   "execution_count": 13,
   "id": "c580ee8c",
   "metadata": {},
   "outputs": [
    {
     "name": "stdout",
     "output_type": "stream",
     "text": [
      "['guru', 10, 1.06, 'Shiva']\n",
      "4\n"
     ]
    }
   ],
   "source": [
    "list = [\"guru\", 10, 1.06, \"Shiva\"]\n",
    "\n",
    "print(list)\n",
    "print(len(list))"
   ]
  },
  {
   "cell_type": "markdown",
   "id": "277e3b3e",
   "metadata": {},
   "source": [
    "# 13. How to remove an element from a list by index"
   ]
  },
  {
   "cell_type": "code",
   "execution_count": 14,
   "id": "8bbafb16",
   "metadata": {},
   "outputs": [
    {
     "name": "stdout",
     "output_type": "stream",
     "text": [
      "['guru', 10, 'Ganesh', 'Shiva']\n",
      "\n",
      "['guru', 'Ganesh', 'Shiva']\n"
     ]
    }
   ],
   "source": [
    "list = [\"guru\", 10, \"Ganesh\", \"Shiva\"]\n",
    "\n",
    "print(list)\n",
    "print()\n",
    "# list.remove(list[1])\n",
    "# print(list)\n",
    "\n",
    "# or\n",
    "\n",
    "del list[1]\n",
    "print(list)"
   ]
  },
  {
   "cell_type": "markdown",
   "id": "40d3bef0",
   "metadata": {},
   "source": [
    "# 14. How do I count the occurrences of a list item?"
   ]
  },
  {
   "cell_type": "code",
   "execution_count": 15,
   "id": "ef795bd2",
   "metadata": {},
   "outputs": [
    {
     "name": "stdout",
     "output_type": "stream",
     "text": [
      "2\n"
     ]
    },
    {
     "data": {
      "text/plain": [
       "3"
      ]
     },
     "execution_count": 15,
     "metadata": {},
     "output_type": "execute_result"
    }
   ],
   "source": [
    "a = [10, 20, 30, 40, 10, 40, 10, 20, 40]\n",
    "print(a.count(20))\n",
    "\n",
    "[10, 20, 30, 40, 10, 40, 10].count(10)"
   ]
  },
  {
   "cell_type": "code",
   "execution_count": 16,
   "id": "755ca424",
   "metadata": {},
   "outputs": [
    {
     "name": "stdout",
     "output_type": "stream",
     "text": [
      "Counter({'blue': 3, 'red': 2, 'yellow': 1})\n"
     ]
    }
   ],
   "source": [
    "from collections import Counter\n",
    "\n",
    "z = ['blue', 'red', 'blue', 'yellow', 'blue', 'red']\n",
    "result = Counter(z)\n",
    "\n",
    "print(result)"
   ]
  },
  {
   "cell_type": "markdown",
   "id": "e36116dc",
   "metadata": {},
   "source": [
    "# 15. Why is it string.join(list) instead of list.join(string)?"
   ]
  },
  {
   "cell_type": "code",
   "execution_count": 17,
   "id": "175f2471",
   "metadata": {},
   "outputs": [
    {
     "data": {
      "text/plain": [
       "'Welcome to Data Science Session'"
      ]
     },
     "execution_count": 17,
     "metadata": {},
     "output_type": "execute_result"
    }
   ],
   "source": [
    "' '.join(['Welcome', 'to', 'Data Science', 'Session'])\n",
    "\n",
    "\n",
    "# [].join(\"Guru ji you are great\")\n",
    "\n",
    "# AttributeError: 'list' object has no attribute 'join'"
   ]
  },
  {
   "cell_type": "markdown",
   "id": "8af2c7c5",
   "metadata": {},
   "source": [
    "# 16. How can I make a dictionary (dict) from separate lists of keys and values?"
   ]
  },
  {
   "cell_type": "code",
   "execution_count": 18,
   "id": "370bd8db",
   "metadata": {},
   "outputs": [
    {
     "name": "stdout",
     "output_type": "stream",
     "text": [
      "{'a': 1, 'b': 2, 'c': 3}\n"
     ]
    }
   ],
   "source": [
    "keys = ['a', 'b', 'c']\n",
    "values = [1, 2, 3]\n",
    "\n",
    "d = dict(zip(keys, values))\n",
    "\n",
    "print(d)"
   ]
  },
  {
   "cell_type": "markdown",
   "id": "7eb8311a",
   "metadata": {},
   "source": [
    "# 17. Removing duplicates in lists"
   ]
  },
  {
   "cell_type": "code",
   "execution_count": 19,
   "id": "996595dd",
   "metadata": {},
   "outputs": [
    {
     "name": "stdout",
     "output_type": "stream",
     "text": [
      "{1, 2, 3, 5, 6, 7, 8}\n"
     ]
    }
   ],
   "source": [
    "t = [1, 2, 3, 1, 2, 3, 5, 6, 7, 8]\n",
    "\n",
    "res = set(t) # If we list(set(t)) then we will get the list instead of set like below\n",
    "\n",
    "\n",
    "print(res)\n",
    "\n"
   ]
  },
  {
   "cell_type": "markdown",
   "id": "09c8832e",
   "metadata": {},
   "source": [
    "# 18. Get a list from Pandas DataFrame column headers"
   ]
  },
  {
   "cell_type": "code",
   "execution_count": 20,
   "id": "9fee1932",
   "metadata": {},
   "outputs": [
    {
     "name": "stdout",
     "output_type": "stream",
     "text": [
      "Index(['Name', 'Id'], dtype='object')\n",
      "['Name' 'Id']\n"
     ]
    }
   ],
   "source": [
    "import pandas as pd\n",
    "\n",
    "data = {\n",
    "        \"Name\": [\"Daniel\", \"Ranjan\"],\n",
    "        \"Id\": [101, 102]\n",
    "}\n",
    "\n",
    "df = pd.DataFrame(data)\n",
    "\n",
    "print(df.columns)\n",
    "print(df.columns.values)"
   ]
  },
  {
   "cell_type": "markdown",
   "id": "997d4546",
   "metadata": {},
   "source": [
    "# 19. How do I reverse a list or loop over it backwards?"
   ]
  },
  {
   "cell_type": "code",
   "execution_count": 21,
   "id": "1a8d719e",
   "metadata": {},
   "outputs": [
    {
     "name": "stdout",
     "output_type": "stream",
     "text": [
      "40\n",
      "20\n",
      "10\n",
      "0\n",
      "[40, 20, 10, 0]\n"
     ]
    }
   ],
   "source": [
    "list1 = [0, 10, 20, 40]\n",
    "\n",
    "for x in reversed(list1):\n",
    "    print(x)\n",
    "\n",
    "s = [0, 10, 20, 40]\n",
    "print(s[::-1])\n",
    "\n",
    "\n",
    "# xs = [0, 10, 20, 40]\n",
    "\n",
    "# print(list(reversed(xs))) this also works but jupiter notebook is showing an error it works on python tutor!"
   ]
  },
  {
   "cell_type": "markdown",
   "id": "717075dc",
   "metadata": {},
   "source": [
    "# 20. How do I return dictionary keys as a list in Python?"
   ]
  },
  {
   "cell_type": "code",
   "execution_count": 22,
   "id": "cf438d0d",
   "metadata": {},
   "outputs": [
    {
     "name": "stdout",
     "output_type": "stream",
     "text": [
      "dict_keys([1, 2, 3])\n"
     ]
    }
   ],
   "source": [
    "newdict = {1:0, 2:0, 3:0}\n",
    "\n",
    "print(newdict.keys())\n",
    "# print(list(newdict.keys())) will provide us with only list of keys"
   ]
  },
  {
   "cell_type": "markdown",
   "id": "a1c9008c",
   "metadata": {},
   "source": [
    "# 21. How do I iterate through two lists in parallel?"
   ]
  },
  {
   "cell_type": "code",
   "execution_count": 23,
   "id": "6698834b",
   "metadata": {},
   "outputs": [
    {
     "name": "stdout",
     "output_type": "stream",
     "text": [
      "1 4\n",
      "2 5\n",
      "3 6\n"
     ]
    }
   ],
   "source": [
    "a = [1, 2, 3]\n",
    "b = [4, 5, 6]\n",
    "\n",
    "for i,j in zip(a, b):\n",
    "    print(i,j)"
   ]
  },
  {
   "cell_type": "markdown",
   "id": "636c90c6",
   "metadata": {},
   "source": [
    "# 22. Fastest way to check if a value exists in a list"
   ]
  },
  {
   "cell_type": "code",
   "execution_count": 24,
   "id": "efbef1f2",
   "metadata": {},
   "outputs": [
    {
     "name": "stdout",
     "output_type": "stream",
     "text": [
      "True\n"
     ]
    }
   ],
   "source": [
    "a = [10, 20, 30]\n",
    "\n",
    "print(10 in a)"
   ]
  },
  {
   "cell_type": "markdown",
   "id": "567bdaf1",
   "metadata": {},
   "source": [
    "# 23. Get difference between two lists with Unique Entries"
   ]
  },
  {
   "cell_type": "code",
   "execution_count": 25,
   "id": "3d313f73",
   "metadata": {},
   "outputs": [
    {
     "name": "stdout",
     "output_type": "stream",
     "text": [
      "['Three', 'Four']\n"
     ]
    }
   ],
   "source": [
    "temp1 = ['One', 'Two', 'Three', 'Four']\n",
    "temp2 = ['One', 'Two']\n",
    "\n",
    "# diff1 = list(set(temp1) - set(temp2))\n",
    "diff2 = [value              for value in temp1          if value not in temp2]\n",
    "\n",
    "# print(diff1)\n",
    "print(diff2)"
   ]
  },
  {
   "cell_type": "markdown",
   "id": "b810a3bf",
   "metadata": {},
   "source": [
    "# 24. Difference between del, remove, and pop on lists"
   ]
  },
  {
   "cell_type": "markdown",
   "id": "85bafbf3",
   "metadata": {},
   "source": [
    "# remove removes the first matching value, not a specific index:"
   ]
  },
  {
   "cell_type": "code",
   "execution_count": 26,
   "id": "a654a9c0",
   "metadata": {},
   "outputs": [
    {
     "name": "stdout",
     "output_type": "stream",
     "text": [
      "[0, 3, 2]\n"
     ]
    }
   ],
   "source": [
    "a = [0, 2, 3, 2]\n",
    "a.remove(2)\n",
    "\n",
    "print(a)"
   ]
  },
  {
   "cell_type": "markdown",
   "id": "fdfc796b",
   "metadata": {},
   "source": [
    "# del removes the item at a specific index:"
   ]
  },
  {
   "cell_type": "code",
   "execution_count": 27,
   "id": "38b64186",
   "metadata": {},
   "outputs": [
    {
     "name": "stdout",
     "output_type": "stream",
     "text": [
      "[9, 7, 6]\n"
     ]
    }
   ],
   "source": [
    "a = [9, 8, 7, 6]\n",
    "del a[1]\n",
    "\n",
    "print(a)"
   ]
  },
  {
   "cell_type": "markdown",
   "id": "4126e4de",
   "metadata": {},
   "source": [
    "# and pop removes the item at a specific index: "
   ]
  },
  {
   "cell_type": "code",
   "execution_count": 28,
   "id": "45358ac4",
   "metadata": {},
   "outputs": [
    {
     "name": "stdout",
     "output_type": "stream",
     "text": [
      "[2, 3, 5]\n"
     ]
    }
   ],
   "source": [
    "a = [2, 3, 4, 5]\n",
    "a.pop(2)\n",
    "\n",
    "print(a)"
   ]
  },
  {
   "cell_type": "markdown",
   "id": "450a3b79",
   "metadata": {},
   "source": [
    "# 25. Get unique values from a list in python"
   ]
  },
  {
   "cell_type": "markdown",
   "id": "05540a91",
   "metadata": {},
   "source": [
    "# with using set(p) function"
   ]
  },
  {
   "cell_type": "code",
   "execution_count": 29,
   "id": "df421054",
   "metadata": {},
   "outputs": [
    {
     "name": "stdout",
     "output_type": "stream",
     "text": [
      "['nowplaying', 'PBS', 'PBS', 'nowplaying', 'job', 'debate', 'thenandnow']\n",
      "\n",
      "{'debate', 'PBS', 'nowplaying', 'job', 'thenandnow'}\n"
     ]
    }
   ],
   "source": [
    "mylist = ['nowplaying', 'PBS', 'PBS', 'nowplaying', 'job', 'debate', 'thenandnow']\n",
    "myset = set(mylist)\n",
    "\n",
    "print(mylist)\n",
    "print()\n",
    "print(myset)"
   ]
  },
  {
   "cell_type": "markdown",
   "id": "25fcdb34",
   "metadata": {},
   "source": [
    "# without using set(p) function"
   ]
  },
  {
   "cell_type": "code",
   "execution_count": 30,
   "id": "815ff5dd",
   "metadata": {},
   "outputs": [
    {
     "name": "stdout",
     "output_type": "stream",
     "text": [
      "['nowplaying', 'PBS', 'job', 'debate', 'thenandnow']\n"
     ]
    }
   ],
   "source": [
    "mylist = ['nowplaying', 'PBS', 'PBS', 'nowplaying', 'job', 'debate', 'thenandnow']\n",
    "unique_list = []\n",
    "for val in mylist:\n",
    "    if val not in unique_list:\n",
    "        unique_list.append(val)\n",
    "print(unique_list)"
   ]
  },
  {
   "cell_type": "markdown",
   "id": "081f617d",
   "metadata": {},
   "source": [
    "# 26. Is there a simple way to delete a list element by value?"
   ]
  },
  {
   "cell_type": "code",
   "execution_count": 31,
   "id": "9f350b27",
   "metadata": {},
   "outputs": [
    {
     "name": "stdout",
     "output_type": "stream",
     "text": [
      "['a', 'c', 'd', 'b', 'e', 'b']\n",
      "\n",
      "['a', 'c', 'd', 'e']\n"
     ]
    }
   ],
   "source": [
    "s = ['a', 'b', 'c', 'd', 'b', 'e', 'b']\n",
    "s.remove('b')\n",
    "\n",
    "print(s)\n",
    "print()\n",
    "\n",
    "# or\n",
    "\n",
    "values = ['a', 'b', 'c', 'd', 'b', 'e', 'b', 'b']\n",
    "result = [value for value in values if value != 'b']\n",
    "\n",
    "print(result)"
   ]
  },
  {
   "cell_type": "markdown",
   "id": "2a7d575f",
   "metadata": {},
   "source": [
    "# 27. How to convert list to string"
   ]
  },
  {
   "cell_type": "code",
   "execution_count": 32,
   "id": "3a9f1c19",
   "metadata": {},
   "outputs": [
    {
     "name": "stdout",
     "output_type": "stream",
     "text": [
      "['a', 'p', 'p', 'p', 'l', 'e']\n",
      "appple\n"
     ]
    }
   ],
   "source": [
    "s = ['a', 'p', 'p', 'p', 'l', 'e']\n",
    "res = ''.join(s)\n",
    "\n",
    "print(s)\n",
    "print(res)"
   ]
  },
  {
   "cell_type": "markdown",
   "id": "5ebc374d",
   "metadata": {},
   "source": [
    "# 29. How to concatenate (join) items in a list to a single string"
   ]
  },
  {
   "cell_type": "code",
   "execution_count": 33,
   "id": "bf7c7042",
   "metadata": {},
   "outputs": [
    {
     "name": "stdout",
     "output_type": "stream",
     "text": [
      "['This', 'is', 'Guru']\n",
      "This is Guru\n"
     ]
    }
   ],
   "source": [
    "words = ['This', 'is', 'Guru']\n",
    "res = ' '.join(words)\n",
    "\n",
    "print(words)\n",
    "print(res)"
   ]
  },
  {
   "cell_type": "markdown",
   "id": "76092748",
   "metadata": {},
   "source": [
    "# 30. How do I remove the first item from a list?"
   ]
  },
  {
   "cell_type": "code",
   "execution_count": 34,
   "id": "820517d9",
   "metadata": {},
   "outputs": [
    {
     "name": "stdout",
     "output_type": "stream",
     "text": [
      "[10, 20, 30, 40]\n",
      "\n",
      "[50, 60, 70, 80]\n",
      "\n",
      "[100, 200, 300, 40]\n",
      "\n",
      "[200, 300, 40]\n"
     ]
    }
   ],
   "source": [
    "a = [\"Guru\", 10, 20, 30, 40]\n",
    "b = [\"Ganesh\", 50, 60, 70, 80]\n",
    "c = [\"Shiva\", 100, 200, 300, 40]\n",
    "\n",
    "a.remove(\"Guru\")\n",
    "print(a)\n",
    "print()\n",
    "\n",
    "# or\n",
    "b.pop(0)\n",
    "print(b)\n",
    "print()\n",
    "\n",
    "# or\n",
    "del c[0]\n",
    "print(c)\n",
    "print()\n",
    "\n",
    "# or\n",
    "print(c[1:])"
   ]
  },
  {
   "cell_type": "markdown",
   "id": "1a707a5d",
   "metadata": {},
   "source": [
    "# 31. Remove empty strings from a list of strings"
   ]
  },
  {
   "cell_type": "code",
   "execution_count": 35,
   "id": "5732ee06",
   "metadata": {},
   "outputs": [
    {
     "name": "stdout",
     "output_type": "stream",
     "text": [
      "['first', '', 'second', '', '']\n",
      "['first', 'second']\n"
     ]
    }
   ],
   "source": [
    "list = [\"first\", \"\", \"second\", \"\", \"\"]\n",
    "\n",
    "res = [val for val in list if val]\n",
    "\n",
    "print(list)\n",
    "print(res)"
   ]
  },
  {
   "cell_type": "markdown",
   "id": "95679f1a",
   "metadata": {},
   "source": [
    "# 32. Shuffling a list of objects"
   ]
  },
  {
   "cell_type": "code",
   "execution_count": 36,
   "id": "87156c32",
   "metadata": {},
   "outputs": [
    {
     "name": "stdout",
     "output_type": "stream",
     "text": [
      "[[9], [5], [8], [4], [2], [3], [7], [1], [6]]\n"
     ]
    }
   ],
   "source": [
    "from random import shuffle\n",
    "r = range(1,10)\n",
    "\n",
    "res = [[i] for i in r]\n",
    "shuffle(res)\n",
    "\n",
    "print(res)"
   ]
  },
  {
   "cell_type": "markdown",
   "id": "461103ed",
   "metadata": {},
   "source": [
    "# 33. Find a value in a list"
   ]
  },
  {
   "cell_type": "code",
   "execution_count": 37,
   "id": "409252fb",
   "metadata": {},
   "outputs": [
    {
     "name": "stdout",
     "output_type": "stream",
     "text": [
      "False\n"
     ]
    }
   ],
   "source": [
    "a = [1, 0, 3]\n",
    "\n",
    "print(2 in a)"
   ]
  },
  {
   "cell_type": "markdown",
   "id": "c9f0a664",
   "metadata": {},
   "source": [
    "# 34. Create an empty list with certain size in Python"
   ]
  },
  {
   "cell_type": "code",
   "execution_count": 38,
   "id": "b3c43103",
   "metadata": {},
   "outputs": [
    {
     "name": "stdout",
     "output_type": "stream",
     "text": [
      "[None, None, None, None, None, None, None, None, None, None]\n",
      "[None, None, None, None, None, None]\n"
     ]
    }
   ],
   "source": [
    "a = [None] * 10\n",
    "print(a)\n",
    "\n",
    "# or\n",
    "b = [None]\n",
    "print(b*6)"
   ]
  },
  {
   "cell_type": "markdown",
   "id": "895b9ac9",
   "metadata": {},
   "source": [
    "# 35. How to convert string representation of list to a list"
   ]
  },
  {
   "cell_type": "code",
   "execution_count": 39,
   "id": "3ecd950d",
   "metadata": {},
   "outputs": [
    {
     "name": "stdout",
     "output_type": "stream",
     "text": [
      "[ \"A\",\"B\",\"C\" , \" D\"] <class 'str'>\n",
      "['A', 'B', 'C', ' D'] <class 'list'>\n"
     ]
    }
   ],
   "source": [
    "import ast\n",
    "\n",
    "x = '[ \"A\",\"B\",\"C\" , \" D\"]'\n",
    "y = ast.literal_eval(x)\n",
    "\n",
    "print(x, type(x))\n",
    "print(y, type(y))"
   ]
  },
  {
   "cell_type": "markdown",
   "id": "60941f7f",
   "metadata": {},
   "source": [
    "# 36. How to check if a string is a substring of items in a list of strings"
   ]
  },
  {
   "cell_type": "code",
   "execution_count": 40,
   "id": "344f900e",
   "metadata": {},
   "outputs": [
    {
     "name": "stdout",
     "output_type": "stream",
     "text": [
      "['abc-123', 'def-456', 'ghi-789', 'abc-456']\n",
      "['abc-123', 'abc-456']\n"
     ]
    }
   ],
   "source": [
    "values = ['abc-123', 'def-456', 'ghi-789', 'abc-456']\n",
    "\n",
    "res = [val for val in values if \"abc\" in val]\n",
    "\n",
    "print(values)\n",
    "print(res)"
   ]
  },
  {
   "cell_type": "markdown",
   "id": "3ee96882",
   "metadata": {},
   "source": [
    "# 37. Convert all strings in a list to integers"
   ]
  },
  {
   "cell_type": "code",
   "execution_count": 41,
   "id": "a8b3ab69",
   "metadata": {},
   "outputs": [
    {
     "name": "stdout",
     "output_type": "stream",
     "text": [
      "['1', '2', '3']\n",
      "[1, 2, 3]\n"
     ]
    }
   ],
   "source": [
    "s = ['1', '2', '3']\n",
    "\n",
    "# res = list(map(int, s))\n",
    "res1 = [int(val) for val in s]\n",
    "print(s)\n",
    "print(res1)"
   ]
  },
  {
   "cell_type": "markdown",
   "id": "0967b725",
   "metadata": {},
   "source": [
    "# 38. Append integer to beginning of list in Python"
   ]
  },
  {
   "cell_type": "code",
   "execution_count": 42,
   "id": "b551ef33",
   "metadata": {},
   "outputs": [
    {
     "name": "stdout",
     "output_type": "stream",
     "text": [
      "[20, 1, 2, 3]\n"
     ]
    }
   ],
   "source": [
    "s = [1, 2, 3]\n",
    "\n",
    "s.insert(0,20)\n",
    "print(s)"
   ]
  },
  {
   "cell_type": "markdown",
   "id": "07809a5b",
   "metadata": {},
   "source": [
    "# 39. How do I find the duplicates in a list and create another list with them?"
   ]
  },
  {
   "cell_type": "code",
   "execution_count": 43,
   "id": "d0c9167c",
   "metadata": {},
   "outputs": [
    {
     "name": "stdout",
     "output_type": "stream",
     "text": [
      "[1, 2, 5]\n"
     ]
    }
   ],
   "source": [
    "import collections\n",
    "a = [1, 2, 3, 2, 1, 5, 6, 5, 5, 5]\n",
    "\n",
    "\n",
    "res = [val for val,count in collections.Counter(a).items() if count > 1 ]\n",
    "print(res)"
   ]
  },
  {
   "cell_type": "markdown",
   "id": "946f4cca",
   "metadata": {},
   "source": [
    "# 40. How would you make a comma-separated string from a list of strings"
   ]
  },
  {
   "cell_type": "code",
   "execution_count": 44,
   "id": "391f7855",
   "metadata": {},
   "outputs": [
    {
     "name": "stdout",
     "output_type": "stream",
     "text": [
      "['a', 'b', 'c', 'd']\n",
      "\n",
      "a,b,c,d\n"
     ]
    }
   ],
   "source": [
    "my_list = ['a', 'b', 'c', 'd']\n",
    "d = ','.join(my_list)\n",
    "\n",
    "print(my_list)\n",
    "print()\n",
    "print(d)"
   ]
  },
  {
   "cell_type": "markdown",
   "id": "8d9c6968",
   "metadata": {},
   "source": [
    "# 41. Finding the average of a list"
   ]
  },
  {
   "cell_type": "code",
   "execution_count": 45,
   "id": "0da469fd",
   "metadata": {},
   "outputs": [
    {
     "name": "stdout",
     "output_type": "stream",
     "text": [
      "20.11111111111111\n"
     ]
    }
   ],
   "source": [
    "s = [15, 18, 2, 36, 12, 78, 5, 6, 9]\n",
    "sum = 0\n",
    "for i in s:\n",
    "    sum += i\n",
    "res = sum/len(s)\n",
    "print(res)"
   ]
  },
  {
   "cell_type": "code",
   "execution_count": 46,
   "id": "2d5744ec",
   "metadata": {},
   "outputs": [
    {
     "name": "stdout",
     "output_type": "stream",
     "text": [
      "[15, 18, 2, 36, 12, 78, 5, 6, 9]\n",
      "20.11111111111111\n"
     ]
    }
   ],
   "source": [
    "import statistics as st\n",
    "\n",
    "xs = [15, 18, 2, 36, 12, 78, 5, 6, 9]\n",
    "\n",
    "result1 = st.mean(xs) \n",
    "# result2 = sum(xs) / len(xs)\n",
    "\n",
    "print(xs)\n",
    "print(result1)\n",
    "# print(result2)"
   ]
  },
  {
   "cell_type": "markdown",
   "id": "efb05de3",
   "metadata": {},
   "source": [
    "# 42. if else in a list comprehension"
   ]
  },
  {
   "cell_type": "code",
   "execution_count": 47,
   "id": "dd2ccc98",
   "metadata": {},
   "outputs": [
    {
     "name": "stdout",
     "output_type": "stream",
     "text": [
      "[28, 19, 51, 50, 98, 69, 49, 50, 7]\n"
     ]
    }
   ],
   "source": [
    "values = [22, 13, 45, 50, 98, 69, 43, 44, 1]\n",
    "\n",
    "res = [val if val > 45 else val+6 for val in values]\n",
    "\n",
    "print(res)"
   ]
  },
  {
   "cell_type": "markdown",
   "id": "f583b458",
   "metadata": {},
   "source": [
    "# 43. How do I split a string into a list of characters?"
   ]
  },
  {
   "cell_type": "code",
   "execution_count": 48,
   "id": "0683f702",
   "metadata": {},
   "outputs": [],
   "source": [
    "a = \"Shiva\"\n",
    "# b = list(a)\n",
    "# print(b)\n",
    "\n",
    "# This provides the output as ['S','h','i','v','a']"
   ]
  },
  {
   "cell_type": "markdown",
   "id": "c2945b91",
   "metadata": {},
   "source": [
    "# 44. Alphabet range in Python"
   ]
  },
  {
   "cell_type": "code",
   "execution_count": 49,
   "id": "a5d67fa5",
   "metadata": {},
   "outputs": [
    {
     "name": "stdout",
     "output_type": "stream",
     "text": [
      "abcdefghijklmnopqrstuvwxyz\n"
     ]
    }
   ],
   "source": [
    "import string as str\n",
    "\n",
    "result = str.ascii_lowercase\n",
    "\n",
    "print(result)"
   ]
  },
  {
   "cell_type": "code",
   "execution_count": 50,
   "id": "cff0d096",
   "metadata": {},
   "outputs": [
    {
     "name": "stdout",
     "output_type": "stream",
     "text": [
      "a\n",
      "b\n",
      "c\n",
      "d\n"
     ]
    }
   ],
   "source": [
    "for char in map(chr,[97,98,99,100]):\n",
    "    print(char)"
   ]
  },
  {
   "cell_type": "code",
   "execution_count": 51,
   "id": "d25a80a2",
   "metadata": {},
   "outputs": [],
   "source": [
    "# list(map(chr, range(97, 123)))\n",
    "\n",
    "# Output is \n",
    "# ['a',\n",
    "#  'b',\n",
    "#  'c',\n",
    "#  'd',\n",
    "#  'e',\n",
    "#  'f',\n",
    "#  'g',\n",
    "#  'h',\n",
    "#  'i',\n",
    "#  'j',\n",
    "#  'k',\n",
    "#  'l',\n",
    "#  'm',\n",
    "#  'n',\n",
    "#  'o',\n",
    "#  'p',\n",
    "#  'q',\n",
    "#  'r',\n",
    "#  's',\n",
    "#  't',\n",
    "#  'u',\n",
    "#  'v',\n",
    "#  'w',\n",
    "#  'x',\n",
    "#  'y',\n",
    "#  'z']"
   ]
  },
  {
   "cell_type": "markdown",
   "id": "bb3bd6fb",
   "metadata": {},
   "source": [
    "# 45. How do I split a string into a list of words?"
   ]
  },
  {
   "cell_type": "code",
   "execution_count": 52,
   "id": "e4c3d59b",
   "metadata": {},
   "outputs": [
    {
     "name": "stdout",
     "output_type": "stream",
     "text": [
      "This is Daniel\n",
      "['This', 'is', 'Daniel']\n"
     ]
    }
   ],
   "source": [
    "value = \"This is Daniel\"\n",
    "\n",
    "res = value.split(\" \")\n",
    "print(value)\n",
    "print(res)"
   ]
  },
  {
   "cell_type": "markdown",
   "id": "d3face84",
   "metadata": {},
   "source": [
    "# 46. Check if multiple strings exist in another string"
   ]
  },
  {
   "cell_type": "code",
   "execution_count": 53,
   "id": "19922f3c",
   "metadata": {},
   "outputs": [
    {
     "name": "stdout",
     "output_type": "stream",
     "text": [
      "Yes\n"
     ]
    }
   ],
   "source": [
    "a_string = \"Python Pandas Numpy Machine Learning\"\n",
    "matches = [\"Python\", \"Learning\"]\n",
    "\n",
    "if any([x in a_string for x in matches]):\n",
    "    print(\"Yes\")\n",
    "else:\n",
    "    print(\"No\")"
   ]
  },
  {
   "cell_type": "markdown",
   "id": "75956f74",
   "metadata": {},
   "source": [
    "# 47. How can I get list of values from dict?"
   ]
  },
  {
   "cell_type": "code",
   "execution_count": 54,
   "id": "946c6fea",
   "metadata": {},
   "outputs": [
    {
     "name": "stdout",
     "output_type": "stream",
     "text": [
      "dict_values(['Daniel', 101])\n"
     ]
    }
   ],
   "source": [
    "d = {\"Name\": \"Daniel\", \"Id\": 101}\n",
    "res = d.values()\n",
    "\n",
    "print(res)\n",
    "\n",
    "# or\n",
    "# print(list(d.values())) This produces ['Daniel', 101]"
   ]
  },
  {
   "cell_type": "markdown",
   "id": "7fd9a4f6",
   "metadata": {},
   "source": [
    "# 48. Remove all the elements that occur in one list from another"
   ]
  },
  {
   "cell_type": "code",
   "execution_count": 55,
   "id": "544fce10",
   "metadata": {},
   "outputs": [
    {
     "name": "stdout",
     "output_type": "stream",
     "text": [
      "[1, 2, 6, 8]\n",
      "[2, 3, 5, 8]\n",
      "[1, 6]\n"
     ]
    }
   ],
   "source": [
    "l1 = [1, 2, 6, 8] \n",
    "l2 = [2, 3, 5, 8]\n",
    "\n",
    "res = [val for val in l1 if val not in l2]\n",
    "print(l1)\n",
    "print(l2)\n",
    "print(res)"
   ]
  },
  {
   "cell_type": "markdown",
   "id": "aaa7df3c",
   "metadata": {},
   "source": [
    "# 49. How do I create a list with numbers between two values?"
   ]
  },
  {
   "cell_type": "code",
   "execution_count": 56,
   "id": "9a94b42b",
   "metadata": {},
   "outputs": [],
   "source": [
    "r = range(11, 17)\n",
    "# res = list(r)\n",
    "\n",
    "# print(res)\n",
    "# Output = [11, 12, 13, 14, 15, 16]"
   ]
  },
  {
   "cell_type": "markdown",
   "id": "14897c9a",
   "metadata": {},
   "source": [
    "# 50. List vs Tuple when to use"
   ]
  },
  {
   "cell_type": "code",
   "execution_count": 57,
   "id": "9b6c724b",
   "metadata": {},
   "outputs": [],
   "source": [
    "# List, when there is gonna be a change in data or the content is not fixed and keep changing. \n",
    "# Eg : Date, Numbers.... etc\n",
    "\n",
    "# Tuple, when the data is never going to change. \n",
    "# Eg: Day names, Your Birthday, Months...etc"
   ]
  }
 ],
 "metadata": {
  "kernelspec": {
   "display_name": "Python 3 (ipykernel)",
   "language": "python",
   "name": "python3"
  },
  "language_info": {
   "codemirror_mode": {
    "name": "ipython",
    "version": 3
   },
   "file_extension": ".py",
   "mimetype": "text/x-python",
   "name": "python",
   "nbconvert_exporter": "python",
   "pygments_lexer": "ipython3",
   "version": "3.11.8"
  }
 },
 "nbformat": 4,
 "nbformat_minor": 5
}
